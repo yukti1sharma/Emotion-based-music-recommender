{
 "cells": [
  {
   "cell_type": "code",
   "execution_count": 1,
   "id": "99bfce48",
   "metadata": {},
   "outputs": [],
   "source": [
    "import mediapipe as mp"
   ]
  },
  {
   "cell_type": "code",
   "execution_count": 2,
   "id": "e6f99cf9",
   "metadata": {},
   "outputs": [
    {
     "name": "stderr",
     "output_type": "stream",
     "text": [
      "WARNING: All log messages before absl::InitializeLog() is called are written to STDERR\n",
      "I0000 00:00:1708754519.777438       1 gl_context.cc:344] GL version: 2.1 (2.1 Metal - 88), renderer: Apple M1\n"
     ]
    }
   ],
   "source": [
    "import numpy as np\n",
    "import cv2\n",
    "\n",
    "holistic = mp.solutions.holistic    # utilizes the pose, face and hand landmark models in MediaPipe Pose, MediaPipe Face Mesh and MediaPipe Hands respectively to generate a total of 543 landmarks (33 pose landmarks, 468 face landmarks, and 21 hand landmarks per hand).\n",
    "hands = mp.solutions.hands   # for showing the visuals \n",
    "holis = holistic.Holistic()    #Holistic is the class and holis is its object \n",
    "drawing = mp.solutions.drawing_utils   # to show the visuals\n",
    "\n",
    "#collection of all rows \n",
    "X = []\n",
    "data_size = 0"
   ]
  },
  {
   "cell_type": "code",
   "execution_count": 3,
   "id": "11078c92",
   "metadata": {},
   "outputs": [
    {
     "name": "stderr",
     "output_type": "stream",
     "text": [
      "INFO: Created TensorFlow Lite XNNPACK delegate for CPU.\n"
     ]
    },
    {
     "name": "stdout",
     "output_type": "stream",
     "text": [
      "enter the name of the datarocknroll\n"
     ]
    }
   ],
   "source": [
    "cap = cv2.VideoCapture(0)   #to get the video feed from our webcam\n",
    "\n",
    "name = input(\"enter the name of the data\")\n",
    "while True:\n",
    "    \n",
    "    #row\n",
    "    lst = [] \n",
    "    \n",
    "    \n",
    "    _, frm = cap.read()   #reading that frame \n",
    "    frm = cv2.flip(frm,1)\n",
    "    \n",
    "    res = holis.process(cv2.cvtColor(frm, cv2.COLOR_BGR2RGB))\n",
    "    \n",
    "    # the res can be null also when it is not able to detect any face \n",
    "    \n",
    "    if res.face_landmarks:   # if someone is there in frame store the landmarks in the list \n",
    "        for i in res.face_landmarks.landmark:\n",
    "            lst.append(i.x - res.face_landmarks.landmark[1].x)\n",
    "            lst.append(i.y - res.face_landmarks.landmark[1].y)\n",
    "            \n",
    "            \n",
    "    if res.left_hand_landmarks:  # if left hand is visible \n",
    "        for i in res.left_hand_landmarks.landmark:\n",
    "            lst.append(i.x - res.left_hand_landmarks.landmark[8].x)\n",
    "            lst.append(i.y - res.left_hand_landmarks.landmark[8].y)\n",
    "    else:   # in left hand there is 21 points so 21*2 for x and y if there is no left hand for those points mark as 0 \n",
    "        for i in range(42):\n",
    "            lst.append(0.0)\n",
    "            \n",
    "            \n",
    "    if res.right_hand_landmarks:  #if right hand is visible \n",
    "        for i in res.right_hand_landmarks.landmark:\n",
    "            lst.append(i.x - res.right_hand_landmarks.landmark[8].x)\n",
    "            lst.append(i.y - res.right_hand_landmarks.landmark[8].y)\n",
    "    else:\n",
    "        for i in range(42):\n",
    "            lst.append(0.0)\n",
    "            \n",
    "    X.append(lst)\n",
    "    data_size = data_size +1;\n",
    "\n",
    "    \n",
    "    # FOR ADDING THE LANDMARKS ON FACE , HANDS \n",
    "    drawing.draw_landmarks(frm, res.face_landmarks, holistic.FACEMESH_CONTOURS)\n",
    "    drawing.draw_landmarks(frm, res.left_hand_landmarks, hands.HAND_CONNECTIONS)\n",
    "    drawing.draw_landmarks(frm, res.right_hand_landmarks, hands.HAND_CONNECTIONS)\n",
    "\n",
    "    cv2.putText(frm, str(data_size), (50,50), cv2.FONT_HERSHEY_SIMPLEX, 1, (0,255,0), 2)    #to display text on the video feed -- here it is data size (50,50) is the location, then it is the type of font, font size, the color, and the thicknesss\n",
    "    \n",
    "    cv2.imshow(\"window\", frm)   #showing that it to user\n",
    "    \n",
    "    if cv2.waitKey(1) == 27 or data_size > 99:  #we say we have collected 100 samples of data \n",
    "        cv2.destroyAllWindows()\n",
    "        cap.release()\n",
    "        break"
   ]
  },
  {
   "cell_type": "code",
   "execution_count": 4,
   "id": "eb246a0a",
   "metadata": {},
   "outputs": [
    {
     "name": "stdout",
     "output_type": "stream",
     "text": [
      "(100, 1020)\n"
     ]
    }
   ],
   "source": [
    "np.save(f\"{name}.npy\", np.array(X))   #we are storing one particular emoji for 100 samples\n",
    "print(np.array(X).shape)"
   ]
  },
  {
   "cell_type": "code",
   "execution_count": null,
   "id": "5c2fd258",
   "metadata": {},
   "outputs": [],
   "source": []
  },
  {
   "cell_type": "code",
   "execution_count": null,
   "id": "742ba9ab",
   "metadata": {},
   "outputs": [],
   "source": []
  }
 ],
 "metadata": {
  "kernelspec": {
   "display_name": "Python 3 (ipykernel)",
   "language": "python",
   "name": "python3"
  },
  "language_info": {
   "codemirror_mode": {
    "name": "ipython",
    "version": 3
   },
   "file_extension": ".py",
   "mimetype": "text/x-python",
   "name": "python",
   "nbconvert_exporter": "python",
   "pygments_lexer": "ipython3",
   "version": "3.10.9"
  }
 },
 "nbformat": 4,
 "nbformat_minor": 5
}
